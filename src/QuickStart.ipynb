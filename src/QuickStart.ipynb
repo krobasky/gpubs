{
 "cells": [
  {
   "cell_type": "markdown",
   "id": "2e578d05-f2f9-44ff-b637-29f75d64cf30",
   "metadata": {},
   "source": [
    "# Quick Start"
   ]
  },
  {
   "cell_type": "markdown",
   "id": "5c6f97e6-cd31-4ade-9279-a301ccfd6e8a",
   "metadata": {},
   "source": [
    "## Reload libraries in case the changed"
   ]
  },
  {
   "cell_type": "code",
   "execution_count": 1,
   "id": "bbbf65d8-6440-4077-8f98-ad360ed597d4",
   "metadata": {
    "tags": []
   },
   "outputs": [],
   "source": [
    "# setup\n",
    "import gpubs\n",
    "from gpubs.models import ReferenceData\n",
    "from gpubs.api import create_gene_reference_data, create_frequency_list, create_search_terms_file, create_filtered_search_terms, fetch_abstracts, create_pubcsv_dataset, create_gene_files\n",
    "\n",
    "import importlib\n",
    "importlib.reload(gpubs)\n",
    "importlib.reload(gpubs.models)\n",
    "importlib.reload(gpubs.api)\n",
    "\n",
    "import gpubs\n",
    "from gpubs.models import ReferenceData\n",
    "from gpubs.api import create_gene_reference_data\n"
   ]
  },
  {
   "cell_type": "markdown",
   "id": "9beac480-e526-4a37-a758-7eb23773b115",
   "metadata": {},
   "source": [
    "## Pipeline"
   ]
  },
  {
   "cell_type": "code",
   "execution_count": 2,
   "id": "095a3b77-efa5-412e-b346-94ec51164085",
   "metadata": {
    "tags": []
   },
   "outputs": [
    {
     "name": "stdout",
     "output_type": "stream",
     "text": [
      "version_root=/home/krobasky/prompt/repo/gpubs/src/../../v1/data/\n",
      "Created directory structure.\n"
     ]
    },
    {
     "data": {
      "text/plain": [
       "ReferenceData(ncbi_gene_info_url='https://ftp.ncbi.nlm.nih.gov/gene/DATA/GENE_INFO/Mammalia/Homo_sapiens.gene_info.gz', data_root='data/', raw_data_path='raw/', reference_data_path='reference/', dbxref_reference_data_path='dbxrefs/', dbxrefs=['AllianceGenome.txt', 'Ensembl.txt', 'HGNC.txt', 'IMGT_GENE-DB.txt'], gene_info_filename='gene_info.gz', gene_symbols_filename='gene_symbols.txt', gene_synonyms_filename='gene_synonyms.txt', search_terms_path='search_terms/', frequency_list_filename='frequency_list.txt', corpus_stop_word_list_length=4000, custom_stop_words=['ago', 'aim', 'amid', 'april', 'arch', 'bed', 'bite', 'bug', 'cage', 'co', 'crop', 'damage', 'danger', 'digit', 'et', 'fast', 'fat', 'fate', 'fire', 'flower', 'gap', 'genesis', 'gov', 'gpa', 'grasp', 'ii', 'inos', 'iv', 'killer', 'lab', 'lamp', 'laser', 'map', 'mask', 'mater', 'melt', 'mice', 'minor', 'miss', 'mv', 'nail', 'net', 'not', 'osf', 'pan', 'par', 'pha', 'rab', 'race', 'rain', 'rank', 'san', 'sand', 'se', 'sink', 'soft', 'spatial', 'spin', 'spp', 'steel', 'stop', 'storm', 'tactile', 'tau', 'theta', 'tip', 'traits', 'via', 'apex', 'app', 'apps', 'args', 'ash', 'bar', 'bit', 'cast', 'cats', 'cava', 'cd', 'clock', 'coil', 'cope', 'cord', 'delta', 'eat', 'eg', 'fats', 'fish', 'fix', 'flame', 'flap', 'fuse', 'grid', 'gum', 'heal', 'hip', 'hits', 'hub', 'igm', 'li', 'maps', 'mets', 'mix', 'mn', 'ms', 'nm', 'nodal', 'pigs', 'prey', 'pros', 'pt', 'pva', 'ray', 'sac', 'scar', 'sea', 'sea', 'sp', 'steep', 'tank', 'tied', 'toll', 'trap', 'wire'], search_terms_filename='search_terms.txt', filtered_terms_filename='filtered_terms.txt', abstract_inpath='pubs/', refresh_abstract_xml_files=False, num_abstract_xml_files=5, abstract_outpath='csvpubs/', abstract_length_threshold=405, abstract_genes_outpath='genes/', verbose=2, debug=False, version='../../v1', rand_seed=42, version_root='/home/krobasky/prompt/repo/gpubs/src/../../v1/data/')"
      ]
     },
     "execution_count": 2,
     "metadata": {},
     "output_type": "execute_result"
    }
   ],
   "source": [
    "# Create data model\n",
    "m = ReferenceData(version = \"../../v1\",       # make data root above any git repo\n",
    "                  verbose = 2,                # print all the info messages\n",
    "                  num_abstract_xml_files = 5, # only fetch 5 files from NCBI\n",
    "                  dbxrefs = [\"AllianceGenome.txt\", \"Ensembl.txt\", \"HGNC.txt\", \"IMGT_GENE-DB.txt\"]  # exclude miRNA and MIM\n",
    "\n",
    "                 )\n",
    "\n",
    "# check the modelvalues\n",
    "m"
   ]
  },
  {
   "cell_type": "code",
   "execution_count": 3,
   "id": "3a8c2aec-e181-4cd4-80aa-61e077eeb485",
   "metadata": {
    "tags": []
   },
   "outputs": [
    {
     "name": "stdout",
     "output_type": "stream",
     "text": [
      "Download completed.\n",
      "Gene symbols saved to /home/krobasky/prompt/repo/gpubs/src/../../v1/data/reference/gene_symbols.txt\n",
      "dbXrefs saved to individual files.\n",
      "Gene synonyms saved to /home/krobasky/prompt/repo/gpubs/src/../../v1/data/reference/gene_synonyms.txt\n"
     ]
    }
   ],
   "source": [
    "# Fetch data/raw/gene_info.gz and create the human genes lists under data/reference (gene_symbols.txt, gene_synonyms.txt, dbxrefs/*)\n",
    "create_gene_reference_data(m)"
   ]
  },
  {
   "cell_type": "code",
   "execution_count": 4,
   "id": "82e368ba-d4b3-4356-b58e-42cf0d7c049b",
   "metadata": {
    "tags": []
   },
   "outputs": [
    {
     "name": "stderr",
     "output_type": "stream",
     "text": [
      "[nltk_data] Downloading package brown to /home/krobasky/nltk_data...\n",
      "[nltk_data]   Package brown is already up-to-date!\n"
     ]
    },
    {
     "name": "stdout",
     "output_type": "stream",
     "text": [
      "Wrote /home/krobasky/prompt/repo/gpubs/src/../../v1/data/search_terms/frequency_list.txt\n"
     ]
    }
   ],
   "source": [
    "# The goal of the following 3 calls is to \n",
    "# create data/search_terms/filtered_terms.txt from english language corpus\n",
    "\n",
    "# Create a word frequency list from an English language corpus\n",
    "_ = create_frequency_list(m)"
   ]
  },
  {
   "cell_type": "code",
   "execution_count": 5,
   "id": "ddd7382a-8e3f-421d-849d-a7c908d215c4",
   "metadata": {
    "tags": []
   },
   "outputs": [
    {
     "name": "stdout",
     "output_type": "stream",
     "text": [
      "Created /home/krobasky/prompt/repo/gpubs/src/../../v1/data/search_terms/search_terms.txt.\n",
      "Created /home/krobasky/prompt/repo/gpubs/src/../../v1/data/search_terms/search_terms.txt.unsorted - can be removed.\n",
      "Number of lines in /home/krobasky/prompt/repo/gpubs/src/../../v1/data/search_terms/search_terms.txt: 338125\n"
     ]
    }
   ],
   "source": [
    "# Create the file of gene search terms (data/search_terms/search_terms.txt) using stop words from frequency list\n",
    "create_search_terms_file(m)"
   ]
  },
  {
   "cell_type": "code",
   "execution_count": 6,
   "id": "561e971d-2029-4037-905f-a71bcc893ee5",
   "metadata": {
    "tags": []
   },
   "outputs": [
    {
     "name": "stdout",
     "output_type": "stream",
     "text": [
      "Number of original search_terms:338125\n",
      "number of filtered_terms:337877\n",
      "final number of final_terms:338125\n",
      " number of matched_stop_words:248\n",
      "matched_stop_words=['ABO', 'ACE', 'ACT', 'AF', 'AGO', 'AID', 'AIM', 'AIR', 'ALL', 'AM', 'AMID', 'AN', 'APEX', 'APP', 'APPS', 'APRIL', 'APT', 'ARC', 'ARCH', 'ARGS', 'ARM', 'ARMS', 'ART', 'AS', 'ASH', 'ASK', 'AT', 'BAD', 'BANK', 'BAR', 'BASE', 'BED', 'BEST', 'BIT', 'BITE', 'BOD', 'BORIS', 'BRIGHT', 'BUG', 'CAGE', 'CALL', 'CAN', 'CAR', 'CAST', 'CAT', 'CATS', 'CAVA', 'CD', 'CELL', 'CHIP', 'CLOCK', 'CO', 'COIL', 'COPE', 'CORD', 'CROP', 'DAMAGE', 'DANGER', 'DC', 'Delta', 'DELTA', 'DIGIT', 'DO', 'EAT', 'EG', 'END', 'ET', 'ETA', 'FACE', 'FACT', 'FAST', 'FAT', 'FATE', 'FATS', 'FIND', 'FIRE', 'FISH', 'FIX', 'FLAME', 'FLAP', 'FLOWER', 'FOR', 'FUSE', 'GAP', 'GAS', 'Genesis', 'GET', 'GO', 'GOV', 'GPA', 'GRASP', 'GREAT', 'GRID', 'GUM', 'H', 'HAD', 'HAS', 'HE', 'HEAL', 'hELD', 'HIP', 'HIS', 'HITS', 'hole', 'HOT', 'HR', 'HUB', 'iCE', 'ICE', 'IF', 'IGM', 'II', 'IMPACT', 'IN', 'INOS', 'IV', 'JET', 'KILLER', 'LAB', 'LAMP', 'LARGE', 'LASER', 'LED', 'LI', 'LIGHT', 'LIME', 'LIMIT', 'MA', 'MAIL', 'MAP', 'MAPS', 'MARCH', 'MARK', 'MARS', 'MASK', 'MASS', 'MATER', 'ME', 'MELT', 'MEN', 'Met', 'MET', 'METS', 'MG', 'MICE', 'MINOR', 'MISS', 'MIX', 'ML', 'MN', 'MS', 'MV', 'NAIL', 'NEST', 'NET', 'NM', 'NODAL', 'NOT', 'NS', 'ODD', 'OF', 'ON', 'OSF', 'OUT', 'P', 'PACE', 'PAINT', 'PAN', 'PAR', 'PARTICLE', 'PAST', 'PBS', 'PER', 'PERMIT', 'PH', 'PHA', 'PIGS', 'PILOT', 'PIP', 'PLANE', 'POEM', 'POST', 'PREY', 'PROS', 'PT', 'PVA', 'RAB', 'RACE', 'RAIN', 'RANK', 'RAY', 'RED', 'REST', 'RH', 'SAC', 'SAN', 'SAND', 'SCAR', 'SE', 'SEA', 'SECRET', 'SERA', 'SET', 'SHARP', 'SHE', 'SHOT', 'SIMPLE', 'SINK', 'SOFT', 'SP', 'SPATIAL', 'SPIN', 'SPOT', 'SPP', 'SPRING', 'STEEL', 'STEEP', 'STEP', 'STOP', 'STORM', 'T', 'TACTILE', 'TANK', 'TAPE', 'TASK', 'TAU', 'TAX', 'THETA', 'TIED', 'TIP', 'TO', 'TOLL', 'TOP', 'TRADE', 'TRAIL', 'TRAITS', 'TRAP', 'TrIP', 'TRIP', 'TUBE', 'UP', 'VAN', 'VIA', 'WAS', 'WASH', 'WAVE', 'WIRE', 'WISH']\n"
     ]
    },
    {
     "name": "stderr",
     "output_type": "stream",
     "text": [
      "[nltk_data] Downloading package stopwords to\n",
      "[nltk_data]     /home/krobasky/nltk_data...\n",
      "[nltk_data]   Package stopwords is already up-to-date!\n"
     ]
    },
    {
     "name": "stdout",
     "output_type": "stream",
     "text": [
      "Created /home/krobasky/prompt/repo/gpubs/src/../../v1/data/search_terms/filtered_terms.txt\n"
     ]
    }
   ],
   "source": [
    "# Create the filtered_terms.txt file\n",
    "final_terms = create_filtered_search_terms(m)"
   ]
  },
  {
   "cell_type": "code",
   "execution_count": 7,
   "id": "589293a4-80db-4b77-b84b-ceb9142969a0",
   "metadata": {
    "tags": []
   },
   "outputs": [
    {
     "data": {
      "text/plain": [
       "338125"
      ]
     },
     "execution_count": 7,
     "metadata": {},
     "output_type": "execute_result"
    }
   ],
   "source": [
    "# check length of final terms\n",
    "len(final_terms)"
   ]
  },
  {
   "cell_type": "code",
   "execution_count": 9,
   "id": "4af66106-c54f-411f-ac5f-707a39e7eb87",
   "metadata": {
    "tags": []
   },
   "outputs": [
    {
     "name": "stdout",
     "output_type": "stream",
     "text": [
      "Download Directory: /home/krobasky/prompt/repo/gpubs/src/../../v1/data/raw/pubs/\n",
      "Number of abstracts to ensure have been downloaded: 20\n",
      "Refresh: False\n",
      "Total number of NCBI abstract XML files: 1166\n",
      "latest_files 20: ['pubmed23n1166.xml.gz', 'pubmed23n1165.xml.gz', 'pubmed23n1164.xml.gz', 'pubmed23n1163.xml.gz', 'pubmed23n1162.xml.gz', 'pubmed23n1161.xml.gz', 'pubmed23n1160.xml.gz', 'pubmed23n1159.xml.gz', 'pubmed23n1158.xml.gz', 'pubmed23n1157.xml.gz', 'pubmed23n1156.xml.gz', 'pubmed23n1155.xml.gz', 'pubmed23n1154.xml.gz', 'pubmed23n1153.xml.gz', 'pubmed23n1152.xml.gz', 'pubmed23n1151.xml.gz', 'pubmed23n1150.xml.gz', 'pubmed23n1149.xml.gz', 'pubmed23n1148.xml.gz', 'pubmed23n1147.xml.gz']\n",
      "Predicted download size = 1.3GiB, Available space = 110GiB\n",
      "SKIP: /home/krobasky/prompt/repo/gpubs/src/../../v1/data/raw/pubs/pubmed23n1166.xml.gz exists.\n",
      "SKIP: /home/krobasky/prompt/repo/gpubs/src/../../v1/data/raw/pubs/pubmed23n1165.xml.gz exists.\n",
      "SKIP: /home/krobasky/prompt/repo/gpubs/src/../../v1/data/raw/pubs/pubmed23n1164.xml.gz exists.\n",
      "File: pubmed23n1163.xml.gz, Size: 58800216 bytes\n",
      "WARNING: Downloading: pubmed23n1163.xml.gz to /home/krobasky/prompt/repo/gpubs/src/../../v1/data/raw/pubs/\n",
      "/home/krobasky/prompt/repo/gpubs/src/../../v1/data/raw/pubs/pubmed23n1163.xml.gz.md5: OK - MD5 checksum verification succeeded.\n",
      "File: pubmed23n1162.xml.gz, Size: 73214608 bytes\n",
      "WARNING: Downloading: pubmed23n1162.xml.gz to /home/krobasky/prompt/repo/gpubs/src/../../v1/data/raw/pubs/\n",
      "/home/krobasky/prompt/repo/gpubs/src/../../v1/data/raw/pubs/pubmed23n1162.xml.gz.md5: OK - MD5 checksum verification succeeded.\n",
      "File: pubmed23n1161.xml.gz, Size: 69194034 bytes\n",
      "WARNING: Downloading: pubmed23n1161.xml.gz to /home/krobasky/prompt/repo/gpubs/src/../../v1/data/raw/pubs/\n",
      "/home/krobasky/prompt/repo/gpubs/src/../../v1/data/raw/pubs/pubmed23n1161.xml.gz.md5: OK - MD5 checksum verification succeeded.\n",
      "File: pubmed23n1160.xml.gz, Size: 73557795 bytes\n",
      "WARNING: Downloading: pubmed23n1160.xml.gz to /home/krobasky/prompt/repo/gpubs/src/../../v1/data/raw/pubs/\n",
      "/home/krobasky/prompt/repo/gpubs/src/../../v1/data/raw/pubs/pubmed23n1160.xml.gz.md5: OK - MD5 checksum verification succeeded.\n",
      "File: pubmed23n1159.xml.gz, Size: 68597842 bytes\n",
      "WARNING: Downloading: pubmed23n1159.xml.gz to /home/krobasky/prompt/repo/gpubs/src/../../v1/data/raw/pubs/\n",
      "/home/krobasky/prompt/repo/gpubs/src/../../v1/data/raw/pubs/pubmed23n1159.xml.gz.md5: OK - MD5 checksum verification succeeded.\n",
      "File: pubmed23n1158.xml.gz, Size: 69073902 bytes\n",
      "WARNING: Downloading: pubmed23n1158.xml.gz to /home/krobasky/prompt/repo/gpubs/src/../../v1/data/raw/pubs/\n",
      "/home/krobasky/prompt/repo/gpubs/src/../../v1/data/raw/pubs/pubmed23n1158.xml.gz.md5: OK - MD5 checksum verification succeeded.\n",
      "File: pubmed23n1157.xml.gz, Size: 70092488 bytes\n",
      "WARNING: Downloading: pubmed23n1157.xml.gz to /home/krobasky/prompt/repo/gpubs/src/../../v1/data/raw/pubs/\n",
      "/home/krobasky/prompt/repo/gpubs/src/../../v1/data/raw/pubs/pubmed23n1157.xml.gz.md5: OK - MD5 checksum verification succeeded.\n",
      "File: pubmed23n1156.xml.gz, Size: 69988859 bytes\n",
      "WARNING: Downloading: pubmed23n1156.xml.gz to /home/krobasky/prompt/repo/gpubs/src/../../v1/data/raw/pubs/\n",
      "/home/krobasky/prompt/repo/gpubs/src/../../v1/data/raw/pubs/pubmed23n1156.xml.gz.md5: OK - MD5 checksum verification succeeded.\n",
      "File: pubmed23n1155.xml.gz, Size: 71027662 bytes\n",
      "WARNING: Downloading: pubmed23n1155.xml.gz to /home/krobasky/prompt/repo/gpubs/src/../../v1/data/raw/pubs/\n",
      "/home/krobasky/prompt/repo/gpubs/src/../../v1/data/raw/pubs/pubmed23n1155.xml.gz.md5: OK - MD5 checksum verification succeeded.\n",
      "File: pubmed23n1154.xml.gz, Size: 72633998 bytes\n",
      "WARNING: Downloading: pubmed23n1154.xml.gz to /home/krobasky/prompt/repo/gpubs/src/../../v1/data/raw/pubs/\n",
      "/home/krobasky/prompt/repo/gpubs/src/../../v1/data/raw/pubs/pubmed23n1154.xml.gz.md5: OK - MD5 checksum verification succeeded.\n",
      "File: pubmed23n1153.xml.gz, Size: 69010930 bytes\n",
      "WARNING: Downloading: pubmed23n1153.xml.gz to /home/krobasky/prompt/repo/gpubs/src/../../v1/data/raw/pubs/\n",
      "/home/krobasky/prompt/repo/gpubs/src/../../v1/data/raw/pubs/pubmed23n1153.xml.gz.md5: OK - MD5 checksum verification succeeded.\n",
      "File: pubmed23n1152.xml.gz, Size: 74487636 bytes\n",
      "WARNING: Downloading: pubmed23n1152.xml.gz to /home/krobasky/prompt/repo/gpubs/src/../../v1/data/raw/pubs/\n",
      "/home/krobasky/prompt/repo/gpubs/src/../../v1/data/raw/pubs/pubmed23n1152.xml.gz.md5: OK - MD5 checksum verification succeeded.\n",
      "File: pubmed23n1151.xml.gz, Size: 55114760 bytes\n",
      "WARNING: Downloading: pubmed23n1151.xml.gz to /home/krobasky/prompt/repo/gpubs/src/../../v1/data/raw/pubs/\n",
      "/home/krobasky/prompt/repo/gpubs/src/../../v1/data/raw/pubs/pubmed23n1151.xml.gz.md5: OK - MD5 checksum verification succeeded.\n",
      "File: pubmed23n1150.xml.gz, Size: 72618669 bytes\n",
      "WARNING: Downloading: pubmed23n1150.xml.gz to /home/krobasky/prompt/repo/gpubs/src/../../v1/data/raw/pubs/\n",
      "/home/krobasky/prompt/repo/gpubs/src/../../v1/data/raw/pubs/pubmed23n1150.xml.gz.md5: OK - MD5 checksum verification succeeded.\n",
      "File: pubmed23n1149.xml.gz, Size: 72398323 bytes\n",
      "WARNING: Downloading: pubmed23n1149.xml.gz to /home/krobasky/prompt/repo/gpubs/src/../../v1/data/raw/pubs/\n",
      "/home/krobasky/prompt/repo/gpubs/src/../../v1/data/raw/pubs/pubmed23n1149.xml.gz.md5: OK - MD5 checksum verification succeeded.\n",
      "File: pubmed23n1148.xml.gz, Size: 71033910 bytes\n",
      "WARNING: Downloading: pubmed23n1148.xml.gz to /home/krobasky/prompt/repo/gpubs/src/../../v1/data/raw/pubs/\n",
      "/home/krobasky/prompt/repo/gpubs/src/../../v1/data/raw/pubs/pubmed23n1148.xml.gz.md5: OK - MD5 checksum verification succeeded.\n",
      "File: pubmed23n1147.xml.gz, Size: 73721109 bytes\n",
      "WARNING: Downloading: pubmed23n1147.xml.gz to /home/krobasky/prompt/repo/gpubs/src/../../v1/data/raw/pubs/\n",
      "/home/krobasky/prompt/repo/gpubs/src/../../v1/data/raw/pubs/pubmed23n1147.xml.gz.md5: OK - MD5 checksum verification succeeded.\n",
      "Total size of abstract files: 1.3GiB\n"
     ]
    }
   ],
   "source": [
    "# Fetch NCBI articl zips\n",
    "# - There are about 1100 files with about 15000 abstracts each.\n",
    "# - ~60GB is needed to get all files\n",
    "# - At about 2 min/file ... ~ 2 days to get 'em all\n",
    "m.num_abstract_xml_files=20 # set to -1 to get all files\n",
    "fetch_abstracts(m)"
   ]
  },
  {
   "cell_type": "code",
   "execution_count": 10,
   "id": "c808fdc6-67f2-4b35-957b-83b30eba667a",
   "metadata": {
    "tags": []
   },
   "outputs": [],
   "source": [
    "#%%bash\n",
    "# this would probably be faster, but harder to maintain\n",
    "#VERSION_ROOT=v1/data\n",
    "#VERBOSE=1\n",
    "#./gpubs/scripts/download_pubs.sh -n 5 -d ${VERSION_ROOT}/raw/pubs -v ${VERBOSE} 2> download.err"
   ]
  },
  {
   "cell_type": "code",
   "execution_count": 11,
   "id": "ece86a0c-d677-44f0-aea2-77da07d6e131",
   "metadata": {
    "tags": []
   },
   "outputs": [
    {
     "name": "stdout",
     "output_type": "stream",
     "text": [
      "Converting file /home/krobasky/prompt/repo/gpubs/src/../../v1/data/raw/pubs/pubmed23n1160.xml.gz\n",
      "Number of all articles:29995\n",
      "Number of all abstracts before pruning short articles = 27392\n",
      "Number after pruning short articles = 18053\n",
      "Number discarded for being too short: 9339\n",
      "Number of pruned articles:18053\n",
      "Wrote file:/home/krobasky/prompt/repo/gpubs/src/../../v1/data/csvpubs/pubmed23n1160.xml.gz.csv\n",
      "Converting file /home/krobasky/prompt/repo/gpubs/src/../../v1/data/raw/pubs/pubmed23n1165.xml.gz\n",
      "Number of all articles:29996\n",
      "Number of all abstracts before pruning short articles = 25905\n",
      "Number after pruning short articles = 16511\n",
      "Number discarded for being too short: 9394\n",
      "Number of pruned articles:16511\n",
      "Wrote file:/home/krobasky/prompt/repo/gpubs/src/../../v1/data/csvpubs/pubmed23n1165.xml.gz.csv\n",
      "Converting file /home/krobasky/prompt/repo/gpubs/src/../../v1/data/raw/pubs/pubmed23n1156.xml.gz\n",
      "Number of all articles:29997\n",
      "Number of all abstracts before pruning short articles = 25770\n",
      "Number after pruning short articles = 16443\n",
      "Number discarded for being too short: 9327\n",
      "Number of pruned articles:16443\n",
      "Wrote file:/home/krobasky/prompt/repo/gpubs/src/../../v1/data/csvpubs/pubmed23n1156.xml.gz.csv\n",
      "Converting file /home/krobasky/prompt/repo/gpubs/src/../../v1/data/raw/pubs/pubmed23n1166.xml.gz\n",
      "Number of all articles:10710\n",
      "Number of all abstracts before pruning short articles = 9250\n",
      "Number after pruning short articles = 5558\n",
      "Number discarded for being too short: 3692\n",
      "Number of pruned articles:5558\n",
      "Wrote file:/home/krobasky/prompt/repo/gpubs/src/../../v1/data/csvpubs/pubmed23n1166.xml.gz.csv\n",
      "Converting file /home/krobasky/prompt/repo/gpubs/src/../../v1/data/raw/pubs/pubmed23n1149.xml.gz\n",
      "Number of all articles:29994\n",
      "Number of all abstracts before pruning short articles = 26276\n",
      "Number after pruning short articles = 16622\n",
      "Number discarded for being too short: 9654\n",
      "Number of pruned articles:16622\n",
      "Wrote file:/home/krobasky/prompt/repo/gpubs/src/../../v1/data/csvpubs/pubmed23n1149.xml.gz.csv\n",
      "Converting file /home/krobasky/prompt/repo/gpubs/src/../../v1/data/raw/pubs/pubmed23n1152.xml.gz\n",
      "Number of all articles:29998\n",
      "Number of all abstracts before pruning short articles = 25943\n",
      "Number after pruning short articles = 16386\n",
      "Number discarded for being too short: 9557\n",
      "Number of pruned articles:16386\n",
      "Wrote file:/home/krobasky/prompt/repo/gpubs/src/../../v1/data/csvpubs/pubmed23n1152.xml.gz.csv\n",
      "Converting file /home/krobasky/prompt/repo/gpubs/src/../../v1/data/raw/pubs/pubmed23n1155.xml.gz\n",
      "Number of all articles:29998\n",
      "Number of all abstracts before pruning short articles = 27362\n",
      "Number after pruning short articles = 17616\n",
      "Number discarded for being too short: 9746\n",
      "Number of pruned articles:17616\n",
      "Wrote file:/home/krobasky/prompt/repo/gpubs/src/../../v1/data/csvpubs/pubmed23n1155.xml.gz.csv\n",
      "Converting file /home/krobasky/prompt/repo/gpubs/src/../../v1/data/raw/pubs/pubmed23n1159.xml.gz\n",
      "Number of all articles:29998\n",
      "Number of all abstracts before pruning short articles = 25726\n",
      "Number after pruning short articles = 16430\n",
      "Number discarded for being too short: 9296\n",
      "Number of pruned articles:16430\n",
      "Wrote file:/home/krobasky/prompt/repo/gpubs/src/../../v1/data/csvpubs/pubmed23n1159.xml.gz.csv\n",
      "Converting file /home/krobasky/prompt/repo/gpubs/src/../../v1/data/raw/pubs/pubmed23n1161.xml.gz\n",
      "Number of all articles:29993\n",
      "Number of all abstracts before pruning short articles = 26017\n",
      "Number after pruning short articles = 15945\n",
      "Number discarded for being too short: 10072\n",
      "Number of pruned articles:15945\n",
      "Wrote file:/home/krobasky/prompt/repo/gpubs/src/../../v1/data/csvpubs/pubmed23n1161.xml.gz.csv\n",
      "Converting file /home/krobasky/prompt/repo/gpubs/src/../../v1/data/raw/pubs/pubmed23n1147.xml.gz\n",
      "Number of all articles:29989\n",
      "Number of all abstracts before pruning short articles = 26505\n",
      "Number after pruning short articles = 16892\n",
      "Number discarded for being too short: 9613\n",
      "Number of pruned articles:16892\n",
      "Wrote file:/home/krobasky/prompt/repo/gpubs/src/../../v1/data/csvpubs/pubmed23n1147.xml.gz.csv\n",
      "Converting file /home/krobasky/prompt/repo/gpubs/src/../../v1/data/raw/pubs/pubmed23n1148.xml.gz\n",
      "Number of all articles:29993\n",
      "Number of all abstracts before pruning short articles = 25369\n",
      "Number after pruning short articles = 15624\n",
      "Number discarded for being too short: 9745\n",
      "Number of pruned articles:15624\n",
      "Wrote file:/home/krobasky/prompt/repo/gpubs/src/../../v1/data/csvpubs/pubmed23n1148.xml.gz.csv\n",
      "Converting file /home/krobasky/prompt/repo/gpubs/src/../../v1/data/raw/pubs/pubmed23n1150.xml.gz\n",
      "Number of all articles:29997\n",
      "Number of all abstracts before pruning short articles = 25693\n",
      "Number after pruning short articles = 16110\n",
      "Number discarded for being too short: 9583\n",
      "Number of pruned articles:16110\n",
      "Wrote file:/home/krobasky/prompt/repo/gpubs/src/../../v1/data/csvpubs/pubmed23n1150.xml.gz.csv\n",
      "Converting file /home/krobasky/prompt/repo/gpubs/src/../../v1/data/raw/pubs/pubmed23n1153.xml.gz\n",
      "Number of all articles:29982\n",
      "Number of all abstracts before pruning short articles = 26519\n",
      "Number after pruning short articles = 17437\n",
      "Number discarded for being too short: 9082\n",
      "Number of pruned articles:17437\n",
      "Wrote file:/home/krobasky/prompt/repo/gpubs/src/../../v1/data/csvpubs/pubmed23n1153.xml.gz.csv\n",
      "Converting file /home/krobasky/prompt/repo/gpubs/src/../../v1/data/raw/pubs/pubmed23n1163.xml.gz\n",
      "Number of all articles:29998\n",
      "Number of all abstracts before pruning short articles = 22451\n",
      "Number after pruning short articles = 13904\n",
      "Number discarded for being too short: 8547\n",
      "Number of pruned articles:13904\n",
      "Wrote file:/home/krobasky/prompt/repo/gpubs/src/../../v1/data/csvpubs/pubmed23n1163.xml.gz.csv\n",
      "Converting file /home/krobasky/prompt/repo/gpubs/src/../../v1/data/raw/pubs/pubmed23n1151.xml.gz\n",
      "Number of all articles:29993\n",
      "Number of all abstracts before pruning short articles = 20381\n",
      "Number after pruning short articles = 13111\n",
      "Number discarded for being too short: 7270\n",
      "Number of pruned articles:13111\n",
      "Wrote file:/home/krobasky/prompt/repo/gpubs/src/../../v1/data/csvpubs/pubmed23n1151.xml.gz.csv\n",
      "Converting file /home/krobasky/prompt/repo/gpubs/src/../../v1/data/raw/pubs/pubmed23n1157.xml.gz\n",
      "Number of all articles:29997\n",
      "Number of all abstracts before pruning short articles = 25160\n",
      "Number after pruning short articles = 15933\n",
      "Number discarded for being too short: 9227\n",
      "Number of pruned articles:15933\n",
      "Wrote file:/home/krobasky/prompt/repo/gpubs/src/../../v1/data/csvpubs/pubmed23n1157.xml.gz.csv\n",
      "Converting file /home/krobasky/prompt/repo/gpubs/src/../../v1/data/raw/pubs/pubmed23n1158.xml.gz\n",
      "Number of all articles:29991\n",
      "Number of all abstracts before pruning short articles = 27065\n",
      "Number after pruning short articles = 17844\n",
      "Number discarded for being too short: 9221\n",
      "Number of pruned articles:17844\n",
      "Wrote file:/home/krobasky/prompt/repo/gpubs/src/../../v1/data/csvpubs/pubmed23n1158.xml.gz.csv\n",
      "Converting file /home/krobasky/prompt/repo/gpubs/src/../../v1/data/raw/pubs/pubmed23n1154.xml.gz\n",
      "Number of all articles:29988\n",
      "Number of all abstracts before pruning short articles = 26060\n",
      "Number after pruning short articles = 15880\n",
      "Number discarded for being too short: 10180\n",
      "Number of pruned articles:15880\n",
      "Wrote file:/home/krobasky/prompt/repo/gpubs/src/../../v1/data/csvpubs/pubmed23n1154.xml.gz.csv\n",
      "Converting file /home/krobasky/prompt/repo/gpubs/src/../../v1/data/raw/pubs/pubmed23n1162.xml.gz\n",
      "Number of all articles:29994\n",
      "Number of all abstracts before pruning short articles = 26858\n",
      "Number after pruning short articles = 17900\n",
      "Number discarded for being too short: 8958\n",
      "Number of pruned articles:17900\n",
      "Wrote file:/home/krobasky/prompt/repo/gpubs/src/../../v1/data/csvpubs/pubmed23n1162.xml.gz.csv\n",
      "Converting file /home/krobasky/prompt/repo/gpubs/src/../../v1/data/raw/pubs/pubmed23n1164.xml.gz\n",
      "Number of all articles:29986\n",
      "Number of all abstracts before pruning short articles = 26739\n",
      "Number after pruning short articles = 17326\n",
      "Number discarded for being too short: 9413\n",
      "Number of pruned articles:17326\n",
      "Wrote file:/home/krobasky/prompt/repo/gpubs/src/../../v1/data/csvpubs/pubmed23n1164.xml.gz.csv\n",
      "CPU times: user 5min 45s, sys: 7.35 s, total: 5min 52s\n",
      "Wall time: 6min 21s\n"
     ]
    }
   ],
   "source": [
    "%%time\n",
    "\n",
    "# Create CSVs from XMLs\n",
    "# - This takes about 3 minutes to do 10 files; or about 5 hours to do them all\n",
    "# - Here we only need about a minute to do the 3 files we downloaded\n",
    "csv_list = create_pubcsv_dataset(m)"
   ]
  },
  {
   "cell_type": "code",
   "execution_count": 12,
   "id": "a606bbd2-189a-4750-94c2-34403b7a97ba",
   "metadata": {
    "tags": []
   },
   "outputs": [
    {
     "name": "stdout",
     "output_type": "stream",
     "text": [
      "Creating /home/krobasky/prompt/repo/gpubs/src/../../v1/data/csvpubs/genes/pubmed23n1149.xml.gz.csv\n",
      "Creating /home/krobasky/prompt/repo/gpubs/src/../../v1/data/csvpubs/genes/pubmed23n1162.xml.gz.csv\n",
      "Creating /home/krobasky/prompt/repo/gpubs/src/../../v1/data/csvpubs/genes/pubmed23n1153.xml.gz.csv\n",
      "Creating /home/krobasky/prompt/repo/gpubs/src/../../v1/data/csvpubs/genes/pubmed23n1161.xml.gz.csv\n",
      "Creating /home/krobasky/prompt/repo/gpubs/src/../../v1/data/csvpubs/genes/pubmed23n1158.xml.gz.csv\n",
      "Creating /home/krobasky/prompt/repo/gpubs/src/../../v1/data/csvpubs/genes/pubmed23n1165.xml.gz.csv\n",
      "Creating /home/krobasky/prompt/repo/gpubs/src/../../v1/data/csvpubs/genes/pubmed23n1160.xml.gz.csv\n",
      "Creating /home/krobasky/prompt/repo/gpubs/src/../../v1/data/csvpubs/genes/pubmed23n1150.xml.gz.csv\n",
      "Creating /home/krobasky/prompt/repo/gpubs/src/../../v1/data/csvpubs/genes/pubmed23n1157.xml.gz.csv\n",
      "Creating /home/krobasky/prompt/repo/gpubs/src/../../v1/data/csvpubs/genes/pubmed23n1148.xml.gz.csv\n",
      "Creating /home/krobasky/prompt/repo/gpubs/src/../../v1/data/csvpubs/genes/pubmed23n1156.xml.gz.csv\n",
      "Creating /home/krobasky/prompt/repo/gpubs/src/../../v1/data/csvpubs/genes/pubmed23n1147.xml.gz.csv\n",
      "Creating /home/krobasky/prompt/repo/gpubs/src/../../v1/data/csvpubs/genes/pubmed23n1155.xml.gz.csv\n",
      "Creating /home/krobasky/prompt/repo/gpubs/src/../../v1/data/csvpubs/genes/pubmed23n1152.xml.gz.csv\n",
      "Creating /home/krobasky/prompt/repo/gpubs/src/../../v1/data/csvpubs/genes/pubmed23n1151.xml.gz.csv\n",
      "Creating /home/krobasky/prompt/repo/gpubs/src/../../v1/data/csvpubs/genes/pubmed23n1154.xml.gz.csv\n",
      "Creating /home/krobasky/prompt/repo/gpubs/src/../../v1/data/csvpubs/genes/pubmed23n1164.xml.gz.csv\n",
      "Creating /home/krobasky/prompt/repo/gpubs/src/../../v1/data/csvpubs/genes/pubmed23n1166.xml.gz.csv\n",
      "Creating /home/krobasky/prompt/repo/gpubs/src/../../v1/data/csvpubs/genes/pubmed23n1159.xml.gz.csv\n",
      "Creating /home/krobasky/prompt/repo/gpubs/src/../../v1/data/csvpubs/genes/pubmed23n1163.xml.gz.csv\n",
      "CPU times: user 53.9 ms, sys: 380 ms, total: 434 ms\n",
      "Wall time: 44.9 s\n"
     ]
    }
   ],
   "source": [
    "%%time\n",
    "# Create new CSVs that include GENES column under data/csvpubs/genes\n",
    "# - Takes about 40s for 10 files, which is much slower than just running the awk script\n",
    "# - Here, it should only take a few seconds for the 3 files we downloaded\n",
    "# - With default settings, it filters out about 42% of the abstracts, most of which are 2022\n",
    "create_gene_files(m)"
   ]
  },
  {
   "cell_type": "code",
   "execution_count": 13,
   "id": "be45dbe2-9511-402e-8844-2ef5545ee11f",
   "metadata": {
    "tags": []
   },
   "outputs": [],
   "source": [
    "#%%bash\n",
    "# This is SO much faster, but not as sustainable.\n",
    "#./gpubs/scripts/search.awk \\\n",
    "#  ./v4/data/search_terms/filtered_terms.txt \\\n",
    "#  ./v4/data/csvpubs/pubmed23n1166.xml.gz.csv \\\n",
    "#> ./v4/data/csvpubs/genes/pubmed23n1166.xml.gz.csv 2> ./v4/data/csvpubs/genes/pubmed23n1166.xml.gz.csv.err\n"
   ]
  },
  {
   "cell_type": "code",
   "execution_count": 14,
   "id": "8d19c9e4-cd2d-4477-81e1-6a8a323dd9ee",
   "metadata": {
    "tags": []
   },
   "outputs": [
    {
     "name": "stdout",
     "output_type": "stream",
     "text": [
      "176107\n",
      "    16895 ../../v1/data/csvpubs/genes/pubmed23n1147.xml.gz.csv\n",
      "    15643 ../../v1/data/csvpubs/genes/pubmed23n1148.xml.gz.csv\n",
      "    16652 ../../v1/data/csvpubs/genes/pubmed23n1149.xml.gz.csv\n",
      "    16110 ../../v1/data/csvpubs/genes/pubmed23n1150.xml.gz.csv\n",
      "    13112 ../../v1/data/csvpubs/genes/pubmed23n1151.xml.gz.csv\n",
      "    16399 ../../v1/data/csvpubs/genes/pubmed23n1152.xml.gz.csv\n",
      "    17441 ../../v1/data/csvpubs/genes/pubmed23n1153.xml.gz.csv\n",
      "    15916 ../../v1/data/csvpubs/genes/pubmed23n1154.xml.gz.csv\n",
      "    17616 ../../v1/data/csvpubs/genes/pubmed23n1155.xml.gz.csv\n",
      "    16461 ../../v1/data/csvpubs/genes/pubmed23n1156.xml.gz.csv\n",
      "    15947 ../../v1/data/csvpubs/genes/pubmed23n1157.xml.gz.csv\n",
      "    17852 ../../v1/data/csvpubs/genes/pubmed23n1158.xml.gz.csv\n",
      "    16430 ../../v1/data/csvpubs/genes/pubmed23n1159.xml.gz.csv\n",
      "    18152 ../../v1/data/csvpubs/genes/pubmed23n1160.xml.gz.csv\n",
      "    15946 ../../v1/data/csvpubs/genes/pubmed23n1161.xml.gz.csv\n",
      "    17901 ../../v1/data/csvpubs/genes/pubmed23n1162.xml.gz.csv\n",
      "    13904 ../../v1/data/csvpubs/genes/pubmed23n1163.xml.gz.csv\n",
      "    17326 ../../v1/data/csvpubs/genes/pubmed23n1164.xml.gz.csv\n",
      "    16528 ../../v1/data/csvpubs/genes/pubmed23n1165.xml.gz.csv\n",
      "     5558 ../../v1/data/csvpubs/genes/pubmed23n1166.xml.gz.csv\n",
      "   317789 total\n"
     ]
    }
   ],
   "source": [
    "# Check your work\n",
    "# field 10 has the genes\n",
    "!awk -F'\\t' '$10 != \"\"{print $10}' ../../v1/data/csvpubs/genes/*.xml.gz.csv|wc -l\n",
    "! wc -l ../../v1/data/csvpubs/genes/*.csv"
   ]
  },
  {
   "cell_type": "code",
   "execution_count": 17,
   "id": "71ca92b4-384f-497c-a2c8-ec9f11169ef9",
   "metadata": {
    "tags": []
   },
   "outputs": [
    {
     "data": {
      "text/plain": [
       "(0.5541632970304196, 0.581853242667208)"
      ]
     },
     "execution_count": 17,
     "metadata": {},
     "output_type": "execute_result"
    }
   ],
   "source": [
    "176107/317789, 22932/39412"
   ]
  },
  {
   "cell_type": "code",
   "execution_count": 17,
   "id": "b35aae1c-e781-4048-973a-cde6e12f2fdf",
   "metadata": {
    "tags": []
   },
   "outputs": [
    {
     "name": "stdout",
     "output_type": "stream",
     "text": [
      "22932\n",
      "   17326 ../../v1/data/csvpubs/genes/pubmed23n1164.xml.gz.csv\n",
      "   16528 ../../v1/data/csvpubs/genes/pubmed23n1165.xml.gz.csv\n",
      "    5558 ../../v1/data/csvpubs/genes/pubmed23n1166.xml.gz.csv\n",
      "   39412 total\n"
     ]
    }
   ],
   "source": [
    "# Check your work\n",
    "# field 10 has the genes\n",
    "!awk -F'\\t' '$10 != \"\"{print $10}' ../../v1/data/csvpubs/genes/*.xml.gz.csv|wc -l\n",
    "! wc -l ../../v1/data/csvpubs/genes/*.csv"
   ]
  },
  {
   "cell_type": "code",
   "execution_count": 18,
   "id": "8b683327-41d5-463d-81a2-26e8a9c77967",
   "metadata": {
    "tags": []
   },
   "outputs": [
    {
     "name": "stdout",
     "output_type": "stream",
     "text": [
      "22932\n",
      "   17326 ../../v1/data/csvpubs/genes/pubmed23n1164.xml.gz.csv\n",
      "   16528 ../../v1/data/csvpubs/genes/pubmed23n1165.xml.gz.csv\n",
      "    5558 ../../v1/data/csvpubs/genes/pubmed23n1166.xml.gz.csv\n",
      "   39412 total\n",
      "maps\n",
      "SR\n",
      "MB\n",
      "toll\n",
      "ANOVA\n",
      "CT\n",
      "rim\n",
      "CT\n",
      "Dkk1\n",
      "MI\n",
      "AS,TNC\n",
      "DM\n",
      "GDF-15\n",
      "clock\n",
      "STAT3,T-bet,IL-17A,TSC1,TSC2,IL-17F,M1,LPS,IL-17,MTOR,TSC,DSS\n",
      "CD8,EGFR\n",
      "STING,cGAS\n",
      "APE1,GAD\n",
      "CD4,CCl\n",
      "Mb\n",
      "IV\n",
      "CI,HR\n",
      "tech\n",
      "MRS,SD\n",
      "CI\n",
      "AST\n",
      "RPE\n",
      "Cord,SCS,cord\n",
      "OT,ROM,grip\n",
      "AIS,DAO\n",
      "II\n",
      "CT\n",
      "TNT\n",
      "STR\n",
      "CT\n",
      "ASA\n",
      "DM,KSA,SD\n",
      "MIS\n",
      "AH,atopy\n",
      "CI\n"
     ]
    }
   ],
   "source": [
    "%%bash\n",
    "\n",
    "# Check your work\n",
    "# - If there are common words (like 'maps'), check in gene_info.gz if every occurrence is all-caps, and if so, add it to the custom_stop_words array in ReferenceData\n",
    "\n",
    "# field 10 has the genes\n",
    "awk -F'\\t' '$10 != \"\"{print $10}' ../../v1/data/csvpubs/genes/*.xml.gz.csv|wc -l\n",
    "wc -l ../../v1/data/csvpubs/genes/*.csv\n",
    "cat ../../v1/data/csvpubs/genes/pubmed23n1166.xml.gz.csv.err\n",
    "awk -F'\\t' '$10 != \"\" {print $10}' ../../v1/data/csvpubs/genes/pubmed23n1166.xml.gz.csv|head -120|tail -40\n"
   ]
  },
  {
   "cell_type": "code",
   "execution_count": null,
   "id": "23ba32e2-3c68-454d-bcf2-df622db2a8fb",
   "metadata": {},
   "outputs": [],
   "source": []
  },
  {
   "cell_type": "code",
   "execution_count": null,
   "id": "f6d6eda6-b4d3-4150-9606-eadfd236627c",
   "metadata": {},
   "outputs": [],
   "source": []
  }
 ],
 "metadata": {
  "kernelspec": {
   "display_name": "Python [conda env:prompt2]",
   "language": "python",
   "name": "conda-env-prompt2-py"
  },
  "language_info": {
   "codemirror_mode": {
    "name": "ipython",
    "version": 3
   },
   "file_extension": ".py",
   "mimetype": "text/x-python",
   "name": "python",
   "nbconvert_exporter": "python",
   "pygments_lexer": "ipython3",
   "version": "3.9.16"
  }
 },
 "nbformat": 4,
 "nbformat_minor": 5
}
