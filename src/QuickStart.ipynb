{
 "cells": [
  {
   "cell_type": "markdown",
   "id": "2e578d05-f2f9-44ff-b637-29f75d64cf30",
   "metadata": {},
   "source": [
    "# Quick Start"
   ]
  },
  {
   "cell_type": "markdown",
   "id": "5c6f97e6-cd31-4ade-9279-a301ccfd6e8a",
   "metadata": {},
   "source": [
    "## Reload libraries in case the changed"
   ]
  },
  {
   "cell_type": "code",
   "execution_count": 68,
   "id": "bbbf65d8-6440-4077-8f98-ad360ed597d4",
   "metadata": {
    "tags": []
   },
   "outputs": [],
   "source": [
    "# setup\n",
    "import gpubs\n",
    "import gpubs.parse\n",
    "from gpubs.models import ReferenceData\n",
    "from gpubs.api import create_gene_reference_data, create_frequency_list, create_search_terms_file, create_filtered_search_terms, fetch_abstracts, create_pubcsv_dataset, create_gene_files\n",
    "\n",
    "import importlib\n",
    "importlib.reload(gpubs)\n",
    "importlib.reload(gpubs.models)\n",
    "importlib.reload(gpubs.parse)\n",
    "importlib.reload(gpubs.api)\n",
    "\n",
    "import gpubs\n",
    "import gpubs.parse\n",
    "from gpubs.parse import parse_pubs\n",
    "from gpubs.models import ReferenceData\n",
    "from gpubs.api import create_gene_reference_data, create_frequency_list, create_search_terms_file, create_filtered_search_terms, fetch_abstracts, create_pubcsv_dataset, create_gene_files"
   ]
  },
  {
   "cell_type": "markdown",
   "id": "9beac480-e526-4a37-a758-7eb23773b115",
   "metadata": {},
   "source": [
    "## Pipeline"
   ]
  },
  {
   "cell_type": "markdown",
   "id": "3cd6f088-1721-4fa2-8bf7-31e16dcec46d",
   "metadata": {},
   "source": [
    "## Data model"
   ]
  },
  {
   "cell_type": "code",
   "execution_count": 40,
   "id": "095a3b77-efa5-412e-b346-94ec51164085",
   "metadata": {
    "tags": []
   },
   "outputs": [
    {
     "name": "stdout",
     "output_type": "stream",
     "text": [
      "version_root=/home/krobasky/prompt/repo/gpubs/src/../../v1/data/\n",
      "Created directory structure.\n"
     ]
    },
    {
     "data": {
      "text/plain": [
       "ReferenceData(ncbi_gene_info_url='https://ftp.ncbi.nlm.nih.gov/gene/DATA/GENE_INFO/Mammalia/Homo_sapiens.gene_info.gz', ncbi_ftp_host='ftp.ncbi.nlm.nih.gov', ncbi_ftp_baseline_path='/pubmed/baseline/', ncbi_ftp_updatefiles_path='/pubmed/updatefiles/', data_root='data/', raw_data_path='raw/', reference_data_path='reference/', dbxref_reference_data_path='dbxrefs/', dbxrefs=['AllianceGenome.txt', 'Ensembl.txt', 'HGNC.txt', 'IMGT_GENE-DB.txt'], gene_info_filename='gene_info.gz', gene_symbols_filename='gene_symbols.txt', gene_synonyms_filename='gene_synonyms.txt', search_terms_path='search_terms/', frequency_list_filename='frequency_list.txt', corpus_stop_word_list_length=4000, custom_stop_words=['ago', 'aim', 'amid', 'april', 'arch', 'bed', 'bite', 'bug', 'cage', 'co', 'crop', 'damage', 'danger', 'digit', 'et', 'fast', 'fat', 'fate', 'fire', 'flower', 'gap', 'genesis', 'gov', 'gpa', 'grasp', 'ii', 'inos', 'iv', 'killer', 'lab', 'lamp', 'laser', 'map', 'mask', 'mater', 'melt', 'mice', 'minor', 'miss', 'mv', 'nail', 'net', 'not', 'osf', 'pan', 'par', 'pha', 'rab', 'race', 'rain', 'rank', 'san', 'sand', 'se', 'sink', 'soft', 'spatial', 'spin', 'spp', 'steel', 'stop', 'storm', 'tactile', 'tau', 'theta', 'tip', 'traits', 'via', 'apex', 'app', 'apps', 'args', 'ash', 'bar', 'bit', 'cast', 'cats', 'cava', 'cd', 'clock', 'coil', 'cope', 'cord', 'delta', 'eat', 'eg', 'fats', 'fish', 'fix', 'flame', 'flap', 'fuse', 'grid', 'gum', 'heal', 'hip', 'hits', 'hub', 'igm', 'li', 'maps', 'mets', 'mix', 'mn', 'ms', 'nm', 'nodal', 'pigs', 'prey', 'pros', 'pt', 'pva', 'ray', 'sac', 'scar', 'sea', 'sea', 'sp', 'steep', 'tank', 'tied', 'toll', 'trap', 'wire'], search_terms_filename='search_terms.txt', filtered_terms_filename='filtered_terms.txt', abstract_inpath='pubs/', abstract_updatefiles_inpath='updates/', refresh_abstract_xml_files=False, num_abstract_xml_files=5, abstract_outpath='csvpubs/', abstract_length_threshold=405, abstract_genes_outpath='genes/', verbose=2, debug=False, version='../../v1', rand_seed=42, version_root='/home/krobasky/prompt/repo/gpubs/src/../../v1/data/')"
      ]
     },
     "execution_count": 40,
     "metadata": {},
     "output_type": "execute_result"
    }
   ],
   "source": [
    "# Create data model\n",
    "m = ReferenceData(version = \"../../v1\",       # make data root above any git repo\n",
    "                  verbose = 2,                # print all the info messages\n",
    "                  num_abstract_xml_files = 5, # only fetch 5 files from NCBI\n",
    "                  dbxrefs = [\"AllianceGenome.txt\", \"Ensembl.txt\", \"HGNC.txt\", \"IMGT_GENE-DB.txt\"]  # exclude miRNA and MIM\n",
    "\n",
    "                 )\n",
    "\n",
    "# check the modelvalues\n",
    "m"
   ]
  },
  {
   "cell_type": "markdown",
   "id": "02f6a056-74da-4875-8ad6-ee00462edbb1",
   "metadata": {},
   "source": [
    "## Gene terms: fetch and parse"
   ]
  },
  {
   "cell_type": "code",
   "execution_count": 73,
   "id": "3a8c2aec-e181-4cd4-80aa-61e077eeb485",
   "metadata": {
    "tags": []
   },
   "outputs": [
    {
     "name": "stdout",
     "output_type": "stream",
     "text": [
      "Download completed.\n",
      "Gene symbols saved to /home/krobasky/prompt/repo/gpubs/src/../../v1/data/reference/gene_symbols.txt\n",
      "dbXrefs saved to individual files.\n",
      "Gene synonyms saved to /home/krobasky/prompt/repo/gpubs/src/../../v1/data/reference/gene_synonyms.txt\n"
     ]
    }
   ],
   "source": [
    "# Fetch data/raw/gene_info.gz and create the human genes lists under data/reference (gene_symbols.txt, gene_synonyms.txt, dbxrefs/*)\n",
    "create_gene_reference_data(m)"
   ]
  },
  {
   "cell_type": "code",
   "execution_count": 74,
   "id": "82e368ba-d4b3-4356-b58e-42cf0d7c049b",
   "metadata": {
    "tags": []
   },
   "outputs": [
    {
     "name": "stderr",
     "output_type": "stream",
     "text": [
      "[nltk_data] Downloading package brown to /home/krobasky/nltk_data...\n",
      "[nltk_data]   Package brown is already up-to-date!\n"
     ]
    },
    {
     "name": "stdout",
     "output_type": "stream",
     "text": [
      "Wrote /home/krobasky/prompt/repo/gpubs/src/../../v1/data/search_terms/frequency_list.txt\n"
     ]
    }
   ],
   "source": [
    "# The goal of the following 3 calls is to \n",
    "# create data/search_terms/filtered_terms.txt from english language corpus\n",
    "\n",
    "# Create a word frequency list from an English language corpus\n",
    "_ = create_frequency_list(m)"
   ]
  },
  {
   "cell_type": "code",
   "execution_count": 75,
   "id": "ddd7382a-8e3f-421d-849d-a7c908d215c4",
   "metadata": {
    "tags": []
   },
   "outputs": [
    {
     "name": "stdout",
     "output_type": "stream",
     "text": [
      "Created /home/krobasky/prompt/repo/gpubs/src/../../v1/data/search_terms/search_terms.txt.\n",
      "Created /home/krobasky/prompt/repo/gpubs/src/../../v1/data/search_terms/search_terms.txt.unsorted - can be removed.\n",
      "Number of lines in /home/krobasky/prompt/repo/gpubs/src/../../v1/data/search_terms/search_terms.txt: 338099\n"
     ]
    }
   ],
   "source": [
    "# Create the file of gene search terms (data/search_terms/search_terms.txt) using stop words from frequency list\n",
    "create_search_terms_file(m)"
   ]
  },
  {
   "cell_type": "code",
   "execution_count": 76,
   "id": "561e971d-2029-4037-905f-a71bcc893ee5",
   "metadata": {
    "tags": []
   },
   "outputs": [
    {
     "name": "stdout",
     "output_type": "stream",
     "text": [
      "Number of original search_terms:338099\n",
      "number of filtered_terms:337851\n",
      "final number of final_terms:338099\n",
      " number of matched_stop_words:248\n",
      "matched_stop_words=['ABO', 'ACE', 'ACT', 'AF', 'AGO', 'AID', 'AIM', 'AIR', 'ALL', 'AM', 'AMID', 'AN', 'APEX', 'APP', 'APPS', 'APRIL', 'APT', 'ARC', 'ARCH', 'ARGS', 'ARM', 'ARMS', 'ART', 'AS', 'ASH', 'ASK', 'AT', 'BAD', 'BANK', 'BAR', 'BASE', 'BED', 'BEST', 'BIT', 'BITE', 'BOD', 'BORIS', 'BRIGHT', 'BUG', 'CAGE', 'CALL', 'CAN', 'CAR', 'CAST', 'CAT', 'CATS', 'CAVA', 'CD', 'CELL', 'CHIP', 'CLOCK', 'CO', 'COIL', 'COPE', 'CORD', 'CROP', 'DAMAGE', 'DANGER', 'DC', 'Delta', 'DELTA', 'DIGIT', 'DO', 'EAT', 'EG', 'END', 'ET', 'ETA', 'FACE', 'FACT', 'FAST', 'FAT', 'FATE', 'FATS', 'FIND', 'FIRE', 'FISH', 'FIX', 'FLAME', 'FLAP', 'FLOWER', 'FOR', 'FUSE', 'GAP', 'GAS', 'Genesis', 'GET', 'GO', 'GOV', 'GPA', 'GRASP', 'GREAT', 'GRID', 'GUM', 'H', 'HAD', 'HAS', 'HE', 'HEAL', 'hELD', 'HIP', 'HIS', 'HITS', 'hole', 'HOT', 'HR', 'HUB', 'iCE', 'ICE', 'IF', 'IGM', 'II', 'IMPACT', 'IN', 'INOS', 'IV', 'JET', 'KILLER', 'LAB', 'LAMP', 'LARGE', 'LASER', 'LED', 'LI', 'LIGHT', 'LIME', 'LIMIT', 'MA', 'MAIL', 'MAP', 'MAPS', 'MARCH', 'MARK', 'MARS', 'MASK', 'MASS', 'MATER', 'ME', 'MELT', 'MEN', 'Met', 'MET', 'METS', 'MG', 'MICE', 'MINOR', 'MISS', 'MIX', 'ML', 'MN', 'MS', 'MV', 'NAIL', 'NEST', 'NET', 'NM', 'NODAL', 'NOT', 'NS', 'ODD', 'OF', 'ON', 'OSF', 'OUT', 'P', 'PACE', 'PAINT', 'PAN', 'PAR', 'PARTICLE', 'PAST', 'PBS', 'PER', 'PERMIT', 'PH', 'PHA', 'PIGS', 'PILOT', 'PIP', 'PLANE', 'POEM', 'POST', 'PREY', 'PROS', 'PT', 'PVA', 'RAB', 'RACE', 'RAIN', 'RANK', 'RAY', 'RED', 'REST', 'RH', 'SAC', 'SAN', 'SAND', 'SCAR', 'SE', 'SEA', 'SECRET', 'SERA', 'SET', 'SHARP', 'SHE', 'SHOT', 'SIMPLE', 'SINK', 'SOFT', 'SP', 'SPATIAL', 'SPIN', 'SPOT', 'SPP', 'SPRING', 'STEEL', 'STEEP', 'STEP', 'STOP', 'STORM', 'T', 'TACTILE', 'TANK', 'TAPE', 'TASK', 'TAU', 'TAX', 'THETA', 'TIED', 'TIP', 'TO', 'TOLL', 'TOP', 'TRADE', 'TRAIL', 'TRAITS', 'TRAP', 'TrIP', 'TRIP', 'TUBE', 'UP', 'VAN', 'VIA', 'WAS', 'WASH', 'WAVE', 'WIRE', 'WISH']\n"
     ]
    },
    {
     "name": "stderr",
     "output_type": "stream",
     "text": [
      "[nltk_data] Downloading package stopwords to\n",
      "[nltk_data]     /home/krobasky/nltk_data...\n",
      "[nltk_data]   Package stopwords is already up-to-date!\n"
     ]
    },
    {
     "name": "stdout",
     "output_type": "stream",
     "text": [
      "Created /home/krobasky/prompt/repo/gpubs/src/../../v1/data/search_terms/filtered_terms.txt\n"
     ]
    }
   ],
   "source": [
    "# Create the filtered_terms.txt file\n",
    "final_terms = create_filtered_search_terms(m)"
   ]
  },
  {
   "cell_type": "code",
   "execution_count": 77,
   "id": "589293a4-80db-4b77-b84b-ceb9142969a0",
   "metadata": {
    "tags": []
   },
   "outputs": [
    {
     "data": {
      "text/plain": [
       "338099"
      ]
     },
     "execution_count": 77,
     "metadata": {},
     "output_type": "execute_result"
    }
   ],
   "source": [
    "# check length of final terms\n",
    "len(final_terms)"
   ]
  },
  {
   "cell_type": "markdown",
   "id": "bb0ace84-1f6b-46f5-ac4c-091387436cff",
   "metadata": {},
   "source": [
    "## Pubs: fetch and parse"
   ]
  },
  {
   "cell_type": "code",
   "execution_count": 41,
   "id": "4af66106-c54f-411f-ac5f-707a39e7eb87",
   "metadata": {
    "tags": []
   },
   "outputs": [
    {
     "name": "stdout",
     "output_type": "stream",
     "text": [
      "Download Directory: /home/krobasky/prompt/repo/gpubs/src/../../v1/data/raw/pubs/\n",
      "Number of abstracts to ensure have been downloaded: 3\n",
      "Refresh: False\n",
      "file_list curl: curl -s ftp://ftp.ncbi.nlm.nih.gov/pubmed/baseline/\n",
      "Total number of NCBI abstract XML files: 1166\n",
      "latest_files 3: ['pubmed23n1166.xml.gz', 'pubmed23n1165.xml.gz', 'pubmed23n1164.xml.gz']\n",
      "Predicted download size = 150MiB, Available space = 108GiB\n",
      "File: pubmed23n1166.xml.gz, Size: 23756263 bytes\n",
      "WARNING: Downloading: pubmed23n1166.xml.gz to /home/krobasky/prompt/repo/gpubs/src/../../v1/data/raw/pubs/\n",
      "/home/krobasky/prompt/repo/gpubs/src/../../v1/data/raw/pubs/pubmed23n1166.xml.gz.md5: OK - MD5 checksum verification succeeded.\n",
      "File: pubmed23n1165.xml.gz, Size: 68303781 bytes\n",
      "WARNING: Downloading: pubmed23n1165.xml.gz to /home/krobasky/prompt/repo/gpubs/src/../../v1/data/raw/pubs/\n",
      "/home/krobasky/prompt/repo/gpubs/src/../../v1/data/raw/pubs/pubmed23n1165.xml.gz.md5: OK - MD5 checksum verification succeeded.\n",
      "File: pubmed23n1164.xml.gz, Size: 64435332 bytes\n",
      "WARNING: Downloading: pubmed23n1164.xml.gz to /home/krobasky/prompt/repo/gpubs/src/../../v1/data/raw/pubs/\n",
      "/home/krobasky/prompt/repo/gpubs/src/../../v1/data/raw/pubs/pubmed23n1164.xml.gz.md5: OK - MD5 checksum verification succeeded.\n",
      "Total size of abstract files: 150MiB\n"
     ]
    }
   ],
   "source": [
    "m.num_abstract_xml_files=3 # set to -1 to get all files\n",
    "\n",
    "# Fetch baseline NCBI article zips\n",
    "# - There are about 1100 files in baseline (2023) with about 15000 abstracts each.\n",
    "# - ~60GB is needed to get all files\n",
    "# - Under an hour on AWS\n",
    "fetch_abstracts(m) "
   ]
  },
  {
   "cell_type": "code",
   "execution_count": 42,
   "id": "3899f413-3685-4536-bfc9-26aeb69b19a1",
   "metadata": {
    "tags": []
   },
   "outputs": [
    {
     "name": "stdout",
     "output_type": "stream",
     "text": [
      "! Getting update files, download_dir=/home/krobasky/prompt/repo/gpubs/src/../../v1/data/raw/pubs/updates/.\n",
      "Download Directory: /home/krobasky/prompt/repo/gpubs/src/../../v1/data/raw/pubs/updates/\n",
      "Number of abstracts to ensure have been downloaded: 3\n",
      "Refresh: False\n",
      "file_list curl: curl -s ftp://ftp.ncbi.nlm.nih.gov/pubmed/updatefiles/\n",
      "Total number of NCBI abstract XML files: 222\n",
      "latest_files 3: ['pubmed23n1388.xml.gz', 'pubmed23n1387.xml.gz', 'pubmed23n1386.xml.gz']\n",
      "Predicted download size = 86MiB, Available space = 108GiB\n",
      "File: pubmed23n1388.xml.gz, Size: 16939468 bytes\n",
      "WARNING: Downloading: pubmed23n1388.xml.gz to /home/krobasky/prompt/repo/gpubs/src/../../v1/data/raw/pubs/updates/\n",
      "/home/krobasky/prompt/repo/gpubs/src/../../v1/data/raw/pubs/updates/pubmed23n1388.xml.gz.md5: OK - MD5 checksum verification succeeded.\n",
      "File: pubmed23n1387.xml.gz, Size: 35175073 bytes\n",
      "WARNING: Downloading: pubmed23n1387.xml.gz to /home/krobasky/prompt/repo/gpubs/src/../../v1/data/raw/pubs/updates/\n",
      "/home/krobasky/prompt/repo/gpubs/src/../../v1/data/raw/pubs/updates/pubmed23n1387.xml.gz.md5: OK - MD5 checksum verification succeeded.\n",
      "File: pubmed23n1386.xml.gz, Size: 37986545 bytes\n",
      "WARNING: Downloading: pubmed23n1386.xml.gz to /home/krobasky/prompt/repo/gpubs/src/../../v1/data/raw/pubs/updates/\n",
      "/home/krobasky/prompt/repo/gpubs/src/../../v1/data/raw/pubs/updates/pubmed23n1386.xml.gz.md5: OK - MD5 checksum verification succeeded.\n",
      "Total size of abstract files: 86MiB\n"
     ]
    }
   ],
   "source": [
    "# Fetch NCBI updatefiles\n",
    "# 222 updatefiles in June 2023\n",
    "fetch_abstracts(m, get_updates = True) "
   ]
  },
  {
   "cell_type": "code",
   "execution_count": 43,
   "id": "c808fdc6-67f2-4b35-957b-83b30eba667a",
   "metadata": {
    "tags": []
   },
   "outputs": [],
   "source": [
    "#%%bash\n",
    "# this would probably be faster, but harder to maintain\n",
    "#VERSION_ROOT=v1/data\n",
    "#VERBOSE=1\n",
    "#./gpubs/scripts/download_pubs.sh -n 5 -d ${VERSION_ROOT}/raw/pubs -v ${VERBOSE} 2> download.err"
   ]
  },
  {
   "cell_type": "code",
   "execution_count": 69,
   "id": "ece86a0c-d677-44f0-aea2-77da07d6e131",
   "metadata": {
    "tags": []
   },
   "outputs": [
    {
     "name": "stdout",
     "output_type": "stream",
     "text": [
      "Converting file /home/krobasky/prompt/repo/gpubs/src/../../v1/data/raw/pubs/pubmed23n1165.xml.gz\n",
      "Number of all articles:29996\n",
      "Number of all abstracts before pruning short articles = 25905\n",
      "Number after pruning short articles = 16511\n",
      "Number discarded for being too short: 9394\n",
      "Number of pruned articles:16511\n",
      "Wrote file:/home/krobasky/prompt/repo/gpubs/src/../../v1/data/csvpubs/pubmed23n1165.xml.gz.csv\n",
      "Converting file /home/krobasky/prompt/repo/gpubs/src/../../v1/data/raw/pubs/pubmed23n1166.xml.gz\n",
      "Number of all articles:10710\n",
      "Number of all abstracts before pruning short articles = 9250\n",
      "Number after pruning short articles = 5558\n",
      "Number discarded for being too short: 3692\n",
      "Number of pruned articles:5558\n",
      "Wrote file:/home/krobasky/prompt/repo/gpubs/src/../../v1/data/csvpubs/pubmed23n1166.xml.gz.csv\n",
      "Converting file /home/krobasky/prompt/repo/gpubs/src/../../v1/data/raw/pubs/pubmed23n1164.xml.gz\n",
      "Number of all articles:29986\n",
      "Number of all abstracts before pruning short articles = 26739\n",
      "Number after pruning short articles = 17326\n",
      "Number discarded for being too short: 9413\n",
      "Number of pruned articles:17326\n",
      "Wrote file:/home/krobasky/prompt/repo/gpubs/src/../../v1/data/csvpubs/pubmed23n1164.xml.gz.csv\n",
      "Converting file /home/krobasky/prompt/repo/gpubs/src/../../v1/data/raw/pubs/updates/pubmed23n1386.xml.gz\n",
      "Number of all articles:14949\n",
      "Number of all abstracts before pruning short articles = 12537\n",
      "Number after pruning short articles = 7843\n",
      "Number discarded for being too short: 4694\n",
      "Number of pruned articles:7843\n",
      "Wrote file:/home/krobasky/prompt/repo/gpubs/src/../../v1/data/csvpubs/pubmed23n1386.xml.gz.csv\n",
      "Converting file /home/krobasky/prompt/repo/gpubs/src/../../v1/data/raw/pubs/updates/pubmed23n1388.xml.gz\n",
      "Number of all articles:6474\n",
      "Number of all abstracts before pruning short articles = 5289\n",
      "Number after pruning short articles = 3275\n",
      "Number discarded for being too short: 2014\n",
      "Number of pruned articles:3275\n",
      "Wrote file:/home/krobasky/prompt/repo/gpubs/src/../../v1/data/csvpubs/pubmed23n1388.xml.gz.csv\n",
      "Converting file /home/krobasky/prompt/repo/gpubs/src/../../v1/data/raw/pubs/updates/pubmed23n1387.xml.gz\n",
      "Number of all articles:13005\n",
      "Number of all abstracts before pruning short articles = 10624\n",
      "Number after pruning short articles = 6584\n",
      "Number discarded for being too short: 4040\n",
      "Number of pruned articles:6584\n",
      "Wrote file:/home/krobasky/prompt/repo/gpubs/src/../../v1/data/csvpubs/pubmed23n1387.xml.gz.csv\n",
      "CPU times: user 51 s, sys: 2.88 s, total: 53.8 s\n",
      "Wall time: 58.3 s\n"
     ]
    }
   ],
   "source": [
    "%%time\n",
    "\n",
    "# Create CSVs from XMLs\n",
    "# - This takes about 3 minutes to do 10 files; or about 5 hours to do all 1165 baselines + \n",
    "# - Here we only need about a minute to do the 3 files we downloaded\n",
    "csv_list = create_pubcsv_dataset(m)"
   ]
  },
  {
   "cell_type": "markdown",
   "id": "c3b49143-b6e7-4833-bb77-80e5badec96d",
   "metadata": {},
   "source": [
    "## Annotate with genes"
   ]
  },
  {
   "cell_type": "code",
   "execution_count": 78,
   "id": "a606bbd2-189a-4750-94c2-34403b7a97ba",
   "metadata": {
    "tags": []
   },
   "outputs": [
    {
     "name": "stdout",
     "output_type": "stream",
     "text": [
      "Creating /home/krobasky/prompt/repo/gpubs/src/../../v1/data/csvpubs/genes/pubmed23n1165.xml.gz.csv\n",
      "Creating /home/krobasky/prompt/repo/gpubs/src/../../v1/data/csvpubs/genes/pubmed23n1164.xml.gz.csv\n",
      "Creating /home/krobasky/prompt/repo/gpubs/src/../../v1/data/csvpubs/genes/pubmed23n1166.xml.gz.csv\n",
      "Creating /home/krobasky/prompt/repo/gpubs/src/../../v1/data/csvpubs/genes/pubmed23n1387.xml.gz.csv\n",
      "Creating /home/krobasky/prompt/repo/gpubs/src/../../v1/data/csvpubs/genes/pubmed23n1388.xml.gz.csv\n",
      "Creating /home/krobasky/prompt/repo/gpubs/src/../../v1/data/csvpubs/genes/pubmed23n1386.xml.gz.csv\n",
      "CPU times: user 10.1 ms, sys: 29 ms, total: 39.1 ms\n",
      "Wall time: 8.29 s\n"
     ]
    }
   ],
   "source": [
    "%%time\n",
    "# Create new CSVs that include GENES column under data/csvpubs/genes\n",
    "# - Takes about 40s for 10 files, which is much slower than just running the awk script\n",
    "# - Here, it should only take a few seconds for the 3 files we downloaded\n",
    "# - With default settings, it filters out about 42% of the abstracts, most of which are 2022\n",
    "create_gene_files(m)"
   ]
  },
  {
   "cell_type": "code",
   "execution_count": 79,
   "id": "be45dbe2-9511-402e-8844-2ef5545ee11f",
   "metadata": {
    "tags": []
   },
   "outputs": [],
   "source": [
    "#%%bash\n",
    "# This is SO much faster, but not as sustainable.\n",
    "#./gpubs/scripts/search.awk \\\n",
    "#  ./v4/data/search_terms/filtered_terms.txt \\\n",
    "#  ./v4/data/csvpubs/pubmed23n1166.xml.gz.csv \\\n",
    "#> ./v4/data/csvpubs/genes/pubmed23n1166.xml.gz.csv 2> ./v4/data/csvpubs/genes/pubmed23n1166.xml.gz.csv.err\n"
   ]
  },
  {
   "cell_type": "code",
   "execution_count": 80,
   "id": "8d19c9e4-cd2d-4477-81e1-6a8a323dd9ee",
   "metadata": {
    "tags": []
   },
   "outputs": [
    {
     "name": "stdout",
     "output_type": "stream",
     "text": [
      "31680\n",
      "   17326 ../../v1/data/csvpubs/genes/pubmed23n1164.xml.gz.csv\n",
      "   16528 ../../v1/data/csvpubs/genes/pubmed23n1165.xml.gz.csv\n",
      "    5558 ../../v1/data/csvpubs/genes/pubmed23n1166.xml.gz.csv\n",
      "    7843 ../../v1/data/csvpubs/genes/pubmed23n1386.xml.gz.csv\n",
      "    6584 ../../v1/data/csvpubs/genes/pubmed23n1387.xml.gz.csv\n",
      "    3275 ../../v1/data/csvpubs/genes/pubmed23n1388.xml.gz.csv\n",
      "   57114 total\n"
     ]
    }
   ],
   "source": [
    "# Check your work\n",
    "# field 10 has the genes\n",
    "!awk -F'\\t' '$10 != \"\"{print $10}' ../../v1/data/csvpubs/genes/*.xml.gz.csv|wc -l\n",
    "! wc -l ../../v1/data/csvpubs/genes/*.csv"
   ]
  },
  {
   "cell_type": "code",
   "execution_count": 83,
   "id": "b35aae1c-e781-4048-973a-cde6e12f2fdf",
   "metadata": {
    "tags": []
   },
   "outputs": [
    {
     "name": "stdout",
     "output_type": "stream",
     "text": [
      "31680\n",
      "   17326 ../../v1/data/csvpubs/genes/pubmed23n1164.xml.gz.csv\n",
      "   16528 ../../v1/data/csvpubs/genes/pubmed23n1165.xml.gz.csv\n",
      "    5558 ../../v1/data/csvpubs/genes/pubmed23n1166.xml.gz.csv\n",
      "    7843 ../../v1/data/csvpubs/genes/pubmed23n1386.xml.gz.csv\n",
      "    6584 ../../v1/data/csvpubs/genes/pubmed23n1387.xml.gz.csv\n",
      "    3275 ../../v1/data/csvpubs/genes/pubmed23n1388.xml.gz.csv\n",
      "   57114 total\n"
     ]
    }
   ],
   "source": [
    "# Check your work\n",
    "# field 10 has the genes\n",
    "!awk -F'\\t' '$10 != \"\"{print $10}' ../../v1/data/csvpubs/genes/*.xml.gz.csv|wc -l\n",
    "! wc -l ../../v1/data/csvpubs/genes/*.csv"
   ]
  },
  {
   "cell_type": "code",
   "execution_count": 87,
   "id": "71ca92b4-384f-497c-a2c8-ec9f11169ef9",
   "metadata": {
    "tags": []
   },
   "outputs": [
    {
     "name": "stdout",
     "output_type": "stream",
     "text": [
      "Fraction of abstracts tagged with genes: 0.554680113457296\n"
     ]
    }
   ],
   "source": [
    "print(f\"Fraction of abstracts tagged with genes: {31680/57114}\")"
   ]
  },
  {
   "cell_type": "code",
   "execution_count": 91,
   "id": "8b683327-41d5-463d-81a2-26e8a9c77967",
   "metadata": {
    "tags": []
   },
   "outputs": [
    {
     "name": "stdout",
     "output_type": "stream",
     "text": [
      "31680\n",
      "   17326 ../../v1/data/csvpubs/genes/pubmed23n1164.xml.gz.csv\n",
      "   16528 ../../v1/data/csvpubs/genes/pubmed23n1165.xml.gz.csv\n",
      "    5558 ../../v1/data/csvpubs/genes/pubmed23n1166.xml.gz.csv\n",
      "    7843 ../../v1/data/csvpubs/genes/pubmed23n1386.xml.gz.csv\n",
      "    6584 ../../v1/data/csvpubs/genes/pubmed23n1387.xml.gz.csv\n",
      "    3275 ../../v1/data/csvpubs/genes/pubmed23n1388.xml.gz.csv\n",
      "   57114 total\n",
      "rim\n",
      "CT\n",
      "Dkk1\n",
      "MI\n",
      "AS,TNC\n",
      "DM\n",
      "GDF-15\n",
      "STAT3,T-bet,IL-17A,TSC1,TSC2,IL-17F,M1,LPS,IL-17,MTOR,TSC,DSS\n",
      "CD8,EGFR\n",
      "STING,cGAS\n",
      "APE1,GAD\n",
      "CD4,CCl\n",
      "Mb\n",
      "IV\n",
      "CI,HR\n",
      "tech\n",
      "MRS,SD\n",
      "CI\n",
      "AST\n",
      "RPE\n",
      "SCS\n",
      "OT,ROM,grip\n",
      "AIS,DAO\n",
      "II\n",
      "CT\n",
      "TNT\n",
      "STR\n",
      "CT\n",
      "ASA\n",
      "DM,KSA,SD\n",
      "MIS\n",
      "AH,atopy\n",
      "CI\n",
      "UK\n",
      "TTM\n",
      "ADAMTS13,TTP\n",
      "Iceberg,spurt\n",
      "IV,II,ASA\n",
      "PM,UAP\n",
      "ML\n"
     ]
    }
   ],
   "source": [
    "%%bash\n",
    "\n",
    "# Check your work\n",
    "# - If there are common words (like 'maps'), check in gene_info.gz if every occurrence is all-caps, and if so, add it to the custom_stop_words array in ReferenceData\n",
    "\n",
    "# field 10 has the genes\n",
    "awk -F'\\t' '$10 != \"\"{print $10}' ../../v1/data/csvpubs/genes/*.xml.gz.csv|wc -l\n",
    "wc -l ../../v1/data/csvpubs/genes/*.csv\n",
    "cat ../../v1/data/csvpubs/genes/pubmed23n1166.xml.gz.csv.err\n",
    "awk -F'\\t' '$10 != \"\" {print $10}' ../../v1/data/csvpubs/genes/pubmed23n1166.xml.gz.csv|head -120|tail -40\n"
   ]
  },
  {
   "cell_type": "code",
   "execution_count": 95,
   "id": "23ba32e2-3c68-454d-bcf2-df622db2a8fb",
   "metadata": {},
   "outputs": [
    {
     "name": "stdout",
     "output_type": "stream",
     "text": [
      "    101 T\n",
      "     79 CI\n",
      "     78 P\n",
      "     70 II\n",
      "     63 CT\n",
      "     57 MRI\n",
      "     55 ROS\n",
      "     47 OA\n",
      "     38 UK\n",
      "     34 polymerase\n",
      "     31 H\n",
      "     30 MS\n",
      "     29 HCC\n",
      "     28 SD\n",
      "     27 IL-6\n",
      "     26 OS\n",
      "     25 GO\n",
      "     25 era\n",
      "     24 NMR\n",
      "     22 Fe\n",
      "     21 HR\n",
      "     20 PA\n",
      "     20 IV\n",
      "     20 DM\n",
      "     19 ML\n",
      "     19 LPS\n",
      "     19 HE\n",
      "     19 ER\n",
      "     17 ATP\n",
      "     17 ASD\n",
      "     16 TNF\n",
      "     16 DEGs\n",
      "     16 Cox\n",
      "     16 CO\n",
      "     16 BP\n",
      "     15 PAH\n",
      "     15 mTOR\n",
      "     15 lobe\n",
      "     14 Pb\n",
      "     14 CRP\n",
      "     14 CD8\n",
      "     13 VEGF\n",
      "     13 SA\n",
      "     13 RT\n",
      "     13 PD-1\n",
      "     13 NPs\n",
      "     13 ECM\n",
      "     13 CSF\n",
      "     13 Cr\n",
      "     13 CD\n",
      "     13 AS\n",
      "     13 AR\n",
      "     12 TEM\n",
      "     12 PE\n",
      "     12 p53\n",
      "     12 NLRP3\n",
      "     12 MR\n",
      "     12 lag\n",
      "     12 EMT\n",
      "     12 EGFR\n",
      "     12 CP\n",
      "     12 bp\n",
      "     11 VIP\n",
      "     11 STAT3\n",
      "     11 protease\n",
      "     11 M1\n",
      "     11 GC\n",
      "     11 AST\n",
      "     11 ANOVA\n",
      "     10 zeta\n",
      "     10 T1\n",
      "     10 SOD\n",
      "     10 SCD\n",
      "     10 PD-L1\n",
      "     10 PCA\n",
      "     10 NIR\n",
      "     10 MOF\n",
      "     10 GI\n",
      "     10 FDG\n",
      "     10 DSC\n",
      "      9 PM\n",
      "      9 PH\n",
      "      9 PC\n",
      "      9 Nrf2\n",
      "      9 NP\n",
      "      9 kit\n",
      "      9 HF\n",
      "      9 Delta\n",
      "      9 CH\n",
      "      9 CD4\n",
      "      9 ART\n",
      "      9 AMPK\n",
      "      9 AA\n",
      "      8 TG\n",
      "      8 T2D\n",
      "      8 PI3K\n",
      "      8 MI\n",
      "      8 LBP\n",
      "      8 IN\n",
      "      8 HD\n"
     ]
    }
   ],
   "source": [
    "%%bash\n",
    "awk -F'\\t' '$10 != \"\" {print $10}' ../../v1/data/csvpubs/genes/pubmed23n1166.xml.gz.csv|sed 's/,/\\n/g'|sort|uniq -c|sort -g -r|head -100"
   ]
  },
  {
   "cell_type": "code",
   "execution_count": null,
   "id": "f6d6eda6-b4d3-4150-9606-eadfd236627c",
   "metadata": {},
   "outputs": [],
   "source": []
  }
 ],
 "metadata": {
  "kernelspec": {
   "display_name": "Python [conda env:prompt]",
   "language": "python",
   "name": "conda-env-prompt-py"
  },
  "language_info": {
   "codemirror_mode": {
    "name": "ipython",
    "version": 3
   },
   "file_extension": ".py",
   "mimetype": "text/x-python",
   "name": "python",
   "nbconvert_exporter": "python",
   "pygments_lexer": "ipython3",
   "version": "3.9.16"
  }
 },
 "nbformat": 4,
 "nbformat_minor": 5
}
